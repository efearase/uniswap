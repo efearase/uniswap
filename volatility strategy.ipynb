{
 "cells": [
  {
   "cell_type": "code",
   "execution_count": 1,
   "id": "daecfd31",
   "metadata": {},
   "outputs": [],
   "source": [
    "import requests\n",
    "import json\n",
    "import pandas as pd\n",
    "import datetime as dt\n",
    "import numpy as np\n",
    "from web3 import Web3\n",
    "import tqdm\n",
    "import matplotlib.pyplot as plt\n",
    "import yfinance as yf"
   ]
  },
  {
   "cell_type": "code",
   "execution_count": 2,
   "id": "d7255a83",
   "metadata": {},
   "outputs": [],
   "source": [
    "blocks = pd.read_csv(\"/Users/gosa/Desktop/internship/data/eth_btc/FirstBlockOfTheDay.csv\",\n",
    "                     names = ['date', 'block'])"
   ]
  },
  {
   "cell_type": "code",
   "execution_count": 3,
   "id": "f0cdc3cf",
   "metadata": {},
   "outputs": [],
   "source": [
    "BTC_ETH = pd.read_excel('/Users/gosa/Desktop/internship/data/eth_btc/v2_btc_eth_events_15999999_clean.xlsx')"
   ]
  },
  {
   "cell_type": "code",
   "execution_count": 4,
   "id": "0b9991ab",
   "metadata": {},
   "outputs": [],
   "source": [
    "def find_number_location(arr, number):\n",
    "    for i in range(len(arr) - 1):\n",
    "        if arr[i] <= number <= arr[i + 1]:\n",
    "            return i"
   ]
  },
  {
   "cell_type": "code",
   "execution_count": 5,
   "id": "6babf56e",
   "metadata": {},
   "outputs": [
    {
     "data": {
      "text/html": [
       "<div>\n",
       "<style scoped>\n",
       "    .dataframe tbody tr th:only-of-type {\n",
       "        vertical-align: middle;\n",
       "    }\n",
       "\n",
       "    .dataframe tbody tr th {\n",
       "        vertical-align: top;\n",
       "    }\n",
       "\n",
       "    .dataframe thead th {\n",
       "        text-align: right;\n",
       "    }\n",
       "</style>\n",
       "<table border=\"1\" class=\"dataframe\">\n",
       "  <thead>\n",
       "    <tr style=\"text-align: right;\">\n",
       "      <th></th>\n",
       "      <th>Event</th>\n",
       "      <th>Block</th>\n",
       "      <th>amount0In</th>\n",
       "      <th>amount1In</th>\n",
       "      <th>amount0Out</th>\n",
       "      <th>amount1Out</th>\n",
       "    </tr>\n",
       "  </thead>\n",
       "  <tbody>\n",
       "    <tr>\n",
       "      <th>0</th>\n",
       "      <td>Mint</td>\n",
       "      <td>10091132</td>\n",
       "      <td>10985500</td>\n",
       "      <td>4.300009e+18</td>\n",
       "      <td>0</td>\n",
       "      <td>0.000000e+00</td>\n",
       "    </tr>\n",
       "    <tr>\n",
       "      <th>1</th>\n",
       "      <td>Swap</td>\n",
       "      <td>10091412</td>\n",
       "      <td>0</td>\n",
       "      <td>1.000000e+15</td>\n",
       "      <td>2546</td>\n",
       "      <td>0.000000e+00</td>\n",
       "    </tr>\n",
       "    <tr>\n",
       "      <th>2</th>\n",
       "      <td>Swap</td>\n",
       "      <td>10091436</td>\n",
       "      <td>0</td>\n",
       "      <td>1.000000e+16</td>\n",
       "      <td>25400</td>\n",
       "      <td>0.000000e+00</td>\n",
       "    </tr>\n",
       "    <tr>\n",
       "      <th>3</th>\n",
       "      <td>Mint</td>\n",
       "      <td>10091445</td>\n",
       "      <td>1101</td>\n",
       "      <td>5.000000e+14</td>\n",
       "      <td>0</td>\n",
       "      <td>0.000000e+00</td>\n",
       "    </tr>\n",
       "    <tr>\n",
       "      <th>4</th>\n",
       "      <td>Swap</td>\n",
       "      <td>10091498</td>\n",
       "      <td>0</td>\n",
       "      <td>3.176716e+17</td>\n",
       "      <td>749921</td>\n",
       "      <td>0.000000e+00</td>\n",
       "    </tr>\n",
       "    <tr>\n",
       "      <th>...</th>\n",
       "      <td>...</td>\n",
       "      <td>...</td>\n",
       "      <td>...</td>\n",
       "      <td>...</td>\n",
       "      <td>...</td>\n",
       "      <td>...</td>\n",
       "    </tr>\n",
       "    <tr>\n",
       "      <th>450373</th>\n",
       "      <td>Swap</td>\n",
       "      <td>15997826</td>\n",
       "      <td>784872</td>\n",
       "      <td>0.000000e+00</td>\n",
       "      <td>0</td>\n",
       "      <td>1.075582e+17</td>\n",
       "    </tr>\n",
       "    <tr>\n",
       "      <th>450374</th>\n",
       "      <td>Swap</td>\n",
       "      <td>15998651</td>\n",
       "      <td>4658864</td>\n",
       "      <td>0.000000e+00</td>\n",
       "      <td>0</td>\n",
       "      <td>6.382939e+17</td>\n",
       "    </tr>\n",
       "    <tr>\n",
       "      <th>450375</th>\n",
       "      <td>Swap</td>\n",
       "      <td>15998750</td>\n",
       "      <td>0</td>\n",
       "      <td>2.129990e+16</td>\n",
       "      <td>154565</td>\n",
       "      <td>0.000000e+00</td>\n",
       "    </tr>\n",
       "    <tr>\n",
       "      <th>450376</th>\n",
       "      <td>Swap</td>\n",
       "      <td>15999034</td>\n",
       "      <td>1452079</td>\n",
       "      <td>0.000000e+00</td>\n",
       "      <td>0</td>\n",
       "      <td>1.988932e+17</td>\n",
       "    </tr>\n",
       "    <tr>\n",
       "      <th>450377</th>\n",
       "      <td>Swap</td>\n",
       "      <td>15999267</td>\n",
       "      <td>499470</td>\n",
       "      <td>0.000000e+00</td>\n",
       "      <td>0</td>\n",
       "      <td>6.840721e+16</td>\n",
       "    </tr>\n",
       "  </tbody>\n",
       "</table>\n",
       "<p>450378 rows × 6 columns</p>\n",
       "</div>"
      ],
      "text/plain": [
       "       Event     Block  amount0In     amount1In  amount0Out    amount1Out\n",
       "0       Mint  10091132   10985500  4.300009e+18           0  0.000000e+00\n",
       "1       Swap  10091412          0  1.000000e+15        2546  0.000000e+00\n",
       "2       Swap  10091436          0  1.000000e+16       25400  0.000000e+00\n",
       "3       Mint  10091445       1101  5.000000e+14           0  0.000000e+00\n",
       "4       Swap  10091498          0  3.176716e+17      749921  0.000000e+00\n",
       "...      ...       ...        ...           ...         ...           ...\n",
       "450373  Swap  15997826     784872  0.000000e+00           0  1.075582e+17\n",
       "450374  Swap  15998651    4658864  0.000000e+00           0  6.382939e+17\n",
       "450375  Swap  15998750          0  2.129990e+16      154565  0.000000e+00\n",
       "450376  Swap  15999034    1452079  0.000000e+00           0  1.988932e+17\n",
       "450377  Swap  15999267     499470  0.000000e+00           0  6.840721e+16\n",
       "\n",
       "[450378 rows x 6 columns]"
      ]
     },
     "execution_count": 5,
     "metadata": {},
     "output_type": "execute_result"
    }
   ],
   "source": [
    "BTC_ETH = BTC_ETH[['Event', 'Block', 'amount0In', 'amount1In','amount0Out', 'amount1Out' ]]\n",
    "BTC_ETH"
   ]
  },
  {
   "cell_type": "code",
   "execution_count": null,
   "id": "75d11a65",
   "metadata": {},
   "outputs": [],
   "source": [
    "dates = np.array([])\n",
    "for i in range(len(BTC_ETH)):\n",
    "    num = find_number_location(blocks['block'].values, BTC_ETH['Block'][i])\n",
    "    if num:\n",
    "        dates = np.append(dates, blocks['date'][num])\n",
    "        \n",
    "    else:\n",
    "        dates = np.append(dates, np.nan)"
   ]
  },
  {
   "cell_type": "code",
   "execution_count": null,
   "id": "d2559c4d",
   "metadata": {
    "scrolled": true
   },
   "outputs": [],
   "source": [
    "BTC_ETH['date'] = pd.DataFrame(dates)\n",
    "BTC_ETH['date'] = pd.to_datetime(BTC_ETH['date'])\n",
    "BTC_ETH"
   ]
  },
  {
   "cell_type": "code",
   "execution_count": null,
   "id": "277304c7",
   "metadata": {},
   "outputs": [],
   "source": [
    "def get_data(symbol, start = str(int(dt.datetime(2021,9,12).timestamp()*1000)),  \n",
    "             end = str(int(dt.datetime(2022,11,20).timestamp()*1000))):\n",
    "    url = 'https://api.binance.com/api/v3/klines'\n",
    "    interval = '1d'\n",
    "   \n",
    "\n",
    "    par = {'symbol': symbol, 'interval': interval, 'startTime': start, 'endTime': end}\n",
    "\n",
    "    data = pd.DataFrame(json.loads(requests.get(url, params= par).text))\n",
    "\n",
    "    #format columns name\n",
    "\n",
    "    data.columns = ['datetime', 'open', 'high', 'low', 'close', 'volume','close_time', 'qav', 'num_trades','taker_base_vol', 'taker_quote_vol', 'ignore']\n",
    "\n",
    "    data.index = [dt.datetime.fromtimestamp(x/1000.0) for x in data.datetime]\n",
    "\n",
    "    data=data.astype(float)\n",
    "    return data"
   ]
  },
  {
   "cell_type": "code",
   "execution_count": null,
   "id": "c16e65b3",
   "metadata": {
    "scrolled": true
   },
   "outputs": [],
   "source": [
    "BTC_prices1 = pd.DataFrame(get_data(\"BTCUSDT\", start = str(int(dt.datetime(2020,4,17).timestamp()*1000)),  \n",
    "             end = str(int(dt.datetime(2021,8,12).timestamp()*1000)))['close'])\n",
    "BTC_prices1.index.name = 'date'\n",
    "BTC_prices2 = pd.DataFrame(get_data(\"BTCUSDT\", start = str(int(dt.datetime(2021,8,12).timestamp()*1000)),  \n",
    "             end = str(int(dt.datetime(2022,11,19).timestamp()*1000)))['close'])\n",
    "BTC_prices2.index.name = 'date'\n",
    "BTC_prices = pd.concat([BTC_prices1, BTC_prices2])\n",
    "\n",
    "\n",
    "ETH_prices1 = pd.DataFrame(get_data(\"ETHUSDT\", start = str(int(dt.datetime(2020,4,17).timestamp()*1000)),  \n",
    "             end = str(int(dt.datetime(2021,8,12).timestamp()*1000)))['close'])\n",
    "ETH_prices1.index.name = 'date'\n",
    "ETH_prices2 = pd.DataFrame(get_data(\"ETHUSDT\", start = str(int(dt.datetime(2021,8,12).timestamp()*1000)),  \n",
    "             end = str(int(dt.datetime(2022,11,19).timestamp()*1000)))['close'])\n",
    "ETH_prices2.index.name = 'date'\n",
    "ETH_prices = pd.concat([ETH_prices1, ETH_prices2])\n",
    "ETH_prices\n",
    "\n",
    "merged_df = pd.merge(ETH_prices, BTC_prices, on='date', how='inner')\n",
    "\n",
    "merged_df = merged_df.rename(columns={'close_x':'ETH','close_y': 'BTC' })\n",
    "merged_df['Date'] = merged_df.index\n",
    "\n",
    "# Reset index and create a new index\n",
    "merged_df = merged_df.reset_index(drop=True)\n",
    "merged_df['date'] = merged_df['Date'].dt.date\n",
    "merged_df = merged_df.drop('Date', axis=1)\n",
    "merged_df"
   ]
  },
  {
   "cell_type": "code",
   "execution_count": null,
   "id": "3e4236e7",
   "metadata": {},
   "outputs": [],
   "source": [
    "d = {'date':merged_df.date , \"Price\":np.divide(merged_df.ETH.values,merged_df.BTC.values)}\n",
    "target_price = pd.DataFrame(data = d)\n",
    "target_price['log_returns'] = np.log(target_price.Price/target_price.Price.shift(1))\n",
    "target_price.dropna(inplace = True)\n",
    "\n",
    "\n",
    "# Calculate the rolling standard deviation using a 30-day window\n",
    "rolling_volatility = target_price['log_returns'].rolling(window=30).std()\n",
    "\n",
    "# Convert the rolling volatility to percentage format if desired\n",
    "rolling_volatility_percentage = rolling_volatility * 100 \n",
    "target_price['rolling_volatility_percentage'] = rolling_volatility_percentage\n",
    "target_price = target_price.fillna(method='backfill')\n",
    "target_price.reset_index(inplace = True)\n",
    "target_price"
   ]
  },
  {
   "cell_type": "code",
   "execution_count": null,
   "id": "eebc8e36",
   "metadata": {},
   "outputs": [],
   "source": [
    "BTC_ETH"
   ]
  },
  {
   "cell_type": "code",
   "execution_count": null,
   "id": "4c474970",
   "metadata": {},
   "outputs": [],
   "source": [
    "BTC_ETH_grouped = BTC_ETH.groupby(['date', 'Event']).sum()\n",
    "BTC_ETH_grouped"
   ]
  },
  {
   "cell_type": "code",
   "execution_count": null,
   "id": "8600ca8d",
   "metadata": {},
   "outputs": [],
   "source": [
    "#BTC_ETH_grouped['date'] = pd.to_datetime(BTC_ETH_grouped['date'])\n",
    "merged_df.set_index('date', inplace=True)\n",
    "# Perform the merge\n",
    "BTC_ETH = BTC_ETH_grouped.join(merged_df, how='left')"
   ]
  },
  {
   "cell_type": "code",
   "execution_count": null,
   "id": "e51f2a5b",
   "metadata": {},
   "outputs": [],
   "source": [
    "BTC_ETH"
   ]
  },
  {
   "cell_type": "code",
   "execution_count": null,
   "id": "75a50adb",
   "metadata": {},
   "outputs": [],
   "source": [
    "def prepare_df(df, digits_base, digits_sec):\n",
    "    df['amount0In'], df['amount0Out'] = df['amount0In']/digits_base, df['amount0Out']/digits_base\n",
    "    df['amount1In'], df['amount1Out'] = df['amount1In']/digits_sec, df['amount1Out']/digits_sec\n",
    "    in0_sum = np.array([])\n",
    "    in1_sum = np.array([])\n",
    "    out0_sum = np.array([])\n",
    "    out1_sum = np.array([])\n",
    "    \n",
    "    for i in range(0,len(df)):\n",
    "        \n",
    "        in0 = df[[\"amount0In\", \"amount1In\", \"amount0Out\", \"amount1Out\"]].loc[:i].sum()['amount0In']\n",
    "        in0_sum = np.append(in0_sum, in0)\n",
    "        out0 = df[[\"amount0In\", \"amount1In\", \"amount0Out\", \"amount1Out\"]].loc[:i].sum()['amount0Out']\n",
    "        out0_sum = np.append(out0_sum, out0)\n",
    "        in1 = df[[\"amount0In\", \"amount1In\", \"amount0Out\", \"amount1Out\"]].loc[:i].sum()['amount1In']\n",
    "        in1_sum = np.append(in1_sum, in1)\n",
    "        out1 = df[[\"amount0In\", \"amount1In\", \"amount0Out\", \"amount1Out\"]].loc[:i].sum()['amount1Out']\n",
    "        out1_sum = np.append(out1_sum, out1)\n",
    "        \n",
    "    df['in0_sum'] = in0_sum\n",
    "    df['in1_sum'] = in1_sum\n",
    "    df['out0_sum'] = out0_sum\n",
    "    df['out1_sum'] = out1_sum\n",
    "    \n",
    "    return df\n",
    "\n",
    "def iloss(ratio, numerical=True):\n",
    "    il = 2*np.sqrt(ratio)/(ratio+1)-1\n",
    "    r = f\"{il:.2%}\" if not numerical else il\n",
    "    return r"
   ]
  },
  {
   "cell_type": "code",
   "execution_count": null,
   "id": "d79f0be6",
   "metadata": {},
   "outputs": [],
   "source": [
    "BTC_ETH_1 = prepare_df(BTC_ETH.reset_index(), digits_base=10**8, digits_sec=10**18)"
   ]
  },
  {
   "cell_type": "code",
   "execution_count": null,
   "id": "469a9513",
   "metadata": {},
   "outputs": [],
   "source": [
    "BTC_ETH_grouped = BTC_ETH_1.groupby(['date', 'Event']).sum()\n",
    "BTC_ETH_grouped"
   ]
  },
  {
   "cell_type": "markdown",
   "id": "0b654e99",
   "metadata": {},
   "source": [
    "# open hedge, when enter the position, close it only when close the position "
   ]
  },
  {
   "cell_type": "code",
   "execution_count": null,
   "id": "7753734d",
   "metadata": {},
   "outputs": [],
   "source": [
    "def perfect_providing(df, daily_hedge):\n",
    "    my_usd = 200\n",
    "    signal = []\n",
    "    P_0 = df.loc[('2020-05-18', 'Swap')]['ETH']/df.loc[('2020-05-18', 'Swap')]['BTC']\n",
    "    my_fees, PnL = np.array([]), np.array([])\n",
    "    for group, group_df in df.iterrows():\n",
    "        \n",
    "        if 'Swap' == group[1]:\n",
    "            \n",
    "            P_1 = group_df['ETH']/ group_df['BTC']\n",
    "            fees = (group_df['amount0In']*group_df['BTC'] + group_df['amount1In']*group_df['ETH'])*0.003\n",
    "            \n",
    "            pool_0_usd = (group_df['in0_sum']- group_df['out0_sum'])*group_df['BTC']\n",
    "            pool_1_usd = (group_df['in1_sum']- group_df['out1_sum'])*group_df['ETH']\n",
    "            \n",
    "            total_pool_usd = pool_0_usd+pool_1_usd\n",
    "            \n",
    "            alpha = fees/total_pool_usd\n",
    "            il = iloss(P_1/P_0)\n",
    "            \n",
    "            if 100*(alpha+il)>0:\n",
    "                signal.append(True)\n",
    "                my_fees = np.append(my_fees, fees*my_usd/total_pool_usd)\n",
    "                my_usd += fees*my_usd/total_pool_usd \n",
    "                #print('alpha-il',alpha-il)\n",
    "                if daily_hedge:\n",
    "                    PnL = np.append(PnL,alpha+il)\n",
    "                    P_0 = P_1\n",
    "                    \n",
    "                else:\n",
    "                    if group_df['shifted_signal']:\n",
    "                        PnL = np.append(PnL,alpha+0)\n",
    "                        \n",
    "                    else:\n",
    "                        PnL = np.append(PnL,alpha+il)\n",
    "                \n",
    "            else:\n",
    "                signal.append(False)\n",
    "                my_fees = np.append(my_fees, 0) \n",
    "                PnL = np.append(PnL,0)\n",
    "                P_0 = P_1\n",
    "\n",
    "    return my_fees , PnL, signal"
   ]
  },
  {
   "cell_type": "code",
   "execution_count": null,
   "id": "b256c8ce",
   "metadata": {
    "scrolled": true
   },
   "outputs": [],
   "source": [
    "my_fees , PnL, signal = perfect_providing(BTC_ETH_grouped, daily_hedge=False)"
   ]
  },
  {
   "cell_type": "code",
   "execution_count": null,
   "id": "98e00506",
   "metadata": {},
   "outputs": [],
   "source": [
    "my_fees_hedge , PnL_hedge, signal_hedge = perfect_providing(BTC_ETH_grouped, daily_hedge=True)"
   ]
  },
  {
   "cell_type": "code",
   "execution_count": null,
   "id": "1492de9a",
   "metadata": {},
   "outputs": [],
   "source": [
    "5.753905e-08"
   ]
  },
  {
   "cell_type": "code",
   "execution_count": null,
   "id": "19c823c6",
   "metadata": {},
   "outputs": [],
   "source": [
    "import matplotlib.pyplot as plt\n",
    "import numpy as np\n",
    "\n",
    "# Set the figure size\n",
    "fig, axs = plt.subplots(2, 1, figsize=(20, 20), sharex=True)\n",
    "\n",
    "times = merged_df.date[31:]\n",
    "\n",
    "# Calculate the cumulative PnL\n",
    "cumulative_fees_with_hedge = np.cumsum(my_fees_hedge)\n",
    "\n",
    "# Plot the cumulative PnL with different colors for zero values\n",
    "axs[0].scatter(times[signal_hedge], cumulative_fees_with_hedge[signal_hedge], color='blue', s=1, label='Providing')\n",
    "axs[0].scatter(times[ np.logical_not(signal_hedge)], cumulative_fees_with_hedge[ np.logical_not(signal_hedge)], color='red', s=10, label='Not Providing')\n",
    "\n",
    "axs[0].set_title(label='Perfect liquidity providing with daily hedge')\n",
    "axs[0].set_ylabel('cumulative_fees_with_hedge')\n",
    "axs[0].grid(True)\n",
    "\n",
    "# Plot the BTC/ETH normalized values\n",
    "cumulative_fees = np.cumsum(my_fees)\n",
    "\n",
    "# Plot the cumulative PnL with different colors for zero values\n",
    "axs[1].scatter(times[signal ], cumulative_fees[signal ], color='blue', s=1)\n",
    "axs[1].scatter(times[ np.logical_not(signal) ], cumulative_fees[ np.logical_not(signal)], color='red', s=10)\n",
    "\n",
    "axs[1].set_ylabel('cumulative_fees')\n",
    "axs[1].grid(True)\n",
    "\n",
    "fig.autofmt_xdate(which='both')\n",
    "\n",
    "# Save the figure with higher DPI\n",
    "fig.savefig(\"cumulative_fees_Perfect_liq_daily_hedge.png\", dpi=300)\n",
    "\n",
    "# Show the figure\n",
    "plt.show()"
   ]
  },
  {
   "cell_type": "code",
   "execution_count": null,
   "id": "5bc4eace",
   "metadata": {},
   "outputs": [],
   "source": [
    "import matplotlib.pyplot as plt\n",
    "import numpy as np\n",
    "\n",
    "# Set the figure size\n",
    "fig, axs = plt.subplots(3, 1, figsize=(20, 25), sharex=True)\n",
    "\n",
    "times = merged_df.date[31:]\n",
    "\n",
    "# Calculate the cumulative PnL\n",
    "cumulative_pnl_hedge = (np.cumprod(PnL_hedge + 1) - 1) * 100\n",
    "\n",
    "# Create boolean masks for equal and not equal adjacent values in PnL\n",
    "mask_equal = np.equal(PnL_hedge[:-1], PnL_hedge[1:])\n",
    "mask_not_equal = np.logical_not(mask_equal)\n",
    "\n",
    "# Plot the cumulative PnL with different colors for equal and not equal adjacent values\n",
    "axs[0].plot(times[1:], cumulative_pnl_hedge[1:], color='blue')\n",
    "axs[0].scatter(times[:-1][mask_not_equal], cumulative_pnl_hedge[:-1][mask_not_equal], color='blue', s=1, label='Providing')\n",
    "axs[0].scatter(times[my_fees_hedge > 0], cumulative_pnl_hedge[my_fees_hedge > 0], color='red', s=5, label='Not Providing')\n",
    "\n",
    "axs[0].set_title(label='PnL comparison under perfect liquidity providing')\n",
    "axs[0].set_ylabel('PnL_hedge in %')\n",
    "axs[0].grid(True)\n",
    "axs[0].legend()  # Add legend\n",
    "\n",
    "cumulative_pnl = (np.cumprod(PnL + 1) - 1) * 100\n",
    "\n",
    "mask_equal = np.equal(PnL[:-1], PnL[1:])\n",
    "mask_not_equal = np.logical_not(mask_equal)\n",
    "\n",
    "\n",
    "# Plot the cumulative PnL with different colors for equal and not equal adjacent values\n",
    "axs[1].plot(times[1:], cumulative_pnl[1:], color='blue')\n",
    "axs[1].scatter(times[:-1][mask_not_equal], cumulative_pnl[:-1][mask_not_equal], color='blue', s=1, label='Providing')\n",
    "axs[1].scatter(times[my_fees > 0], cumulative_pnl[my_fees > 0], color='red', s=5, label='Not Providing')\n",
    "\n",
    "axs[1].set_ylabel('PnL in %')\n",
    "axs[1].grid(True)\n",
    "\n",
    "axs[2].plot(times, (cumulative_pnl_hedge - cumulative_pnl))\n",
    "axs[2].set_ylabel('PnL_hedge - PnL in p.p.')\n",
    "axs[2].grid(True)\n",
    "\n",
    "fig.autofmt_xdate(which='major')\n",
    "\n",
    "# Spacing out the x-axis tick labels\n",
    "num_ticks = 10  # Number of desired tick labels\n",
    "x_ticks = np.linspace(31, len(times) - 2, num_ticks, dtype=int)\n",
    "x_tick_labels = times[:-1][x_ticks]\n",
    "\n",
    "axs[2].set_xticks(times[:-1][x_ticks])  # Set x-axis tick locations\n",
    "axs[2].set_xticklabels(x_tick_labels, rotation=45, ha='right')  # Set x-axis tick labels with rotation\n",
    "\n",
    "# Save the figure with higher DPI\n",
    "fig.savefig(\"PnL_comp_Perfect_liq_daily_hedge.png\", dpi=300)\n",
    "\n",
    "# Show the figure\n",
    "plt.show()"
   ]
  },
  {
   "cell_type": "code",
   "execution_count": null,
   "id": "4ef4ed60",
   "metadata": {},
   "outputs": [],
   "source": [
    "bool_ = my_fees > 0\n",
    "num_true = np.count_nonzero(bool_)\n",
    "print(num_true/len(bool_))"
   ]
  },
  {
   "cell_type": "code",
   "execution_count": null,
   "id": "ed46421a",
   "metadata": {},
   "outputs": [],
   "source": [
    "def calculate_month_alpha(df):\n",
    "    alphas_month = []\n",
    "    for group, group_df in df.iterrows():\n",
    "        \n",
    "        if 'Swap' == group[1]:\n",
    "            \n",
    "            fees = (group_df['amount0In']*group_df['BTC'] + group_df['amount1In']*group_df['ETH'])*0.003\n",
    "            \n",
    "            pool_0_usd = (group_df['in0_sum']- group_df['out0_sum'])*group_df['BTC']\n",
    "            pool_1_usd = (group_df['in1_sum']- group_df['out1_sum'])*group_df['ETH']\n",
    "            \n",
    "            total_pool_usd = pool_0_usd+pool_1_usd\n",
    "            \n",
    "            alpha_day = fees/total_pool_usd\n",
    "            \n",
    "            alpha_month = (1+alpha_day)**365-1\n",
    "            \n",
    "            alphas_month.append(alpha_month)\n",
    "            \n",
    "    return alphas_month"
   ]
  },
  {
   "cell_type": "markdown",
   "id": "4be489cd",
   "metadata": {},
   "source": [
    "# $\\mu = \\frac{1}{30}\\sum_{i=1}^{30} \\log\\left(\\frac{P_t}{P_{t-1}}\\right) + \\frac{\\sigma^2}{2}$"
   ]
  },
  {
   "cell_type": "code",
   "execution_count": null,
   "id": "17e7c112",
   "metadata": {},
   "outputs": [],
   "source": [
    "alphas_month = calculate_month_alpha(BTC_ETH_grouped)"
   ]
  },
  {
   "cell_type": "code",
   "execution_count": null,
   "id": "00cce474",
   "metadata": {},
   "outputs": [],
   "source": [
    "alphas_month"
   ]
  },
  {
   "cell_type": "code",
   "execution_count": null,
   "id": "aec924ce",
   "metadata": {},
   "outputs": [],
   "source": [
    "d = {'date':merged_df['date'] , \"Price\":np.divide(merged_df.ETH.values,merged_df.BTC.values)}\n",
    "target_price = pd.DataFrame(data = d)\n",
    "target_price['log_returns'] = np.log(target_price.Price/target_price.Price.shift(1))\n",
    "target_price.dropna(inplace = True)\n",
    "\n",
    "\n",
    "# Calculate the rolling standard deviation using a 30-day window\n",
    "rolling_volatility = target_price['log_returns'].rolling(window=30).std()\n",
    "rolling_ret = target_price['log_returns'].rolling(window=30).mean()\n",
    "\n",
    "target_price['rolling_volatility'] = rolling_volatility* np.sqrt(365)\n",
    "target_price['rolling_ret'] = rolling_ret\n",
    "target_price = target_price.dropna()\n",
    "#target_price = target_price.drop('index', axis=1)\n",
    "target_price = target_price.drop(target_price.index[0])\n",
    "target_price.reset_index(inplace = True)\n",
    "target_price"
   ]
  },
  {
   "cell_type": "code",
   "execution_count": null,
   "id": "81cf5708",
   "metadata": {},
   "outputs": [],
   "source": [
    "target_price['alpha'] = alphas_month\n",
    "target_price = target_price.drop('index', axis=1)\n",
    "target_price"
   ]
  },
  {
   "cell_type": "code",
   "execution_count": null,
   "id": "bbbfea83",
   "metadata": {},
   "outputs": [],
   "source": [
    "def calculate_IV(df):\n",
    "    IV = []\n",
    "    for i in range(len(df)):\n",
    "        day = df.loc[i]\n",
    "        t = 30/365\n",
    "        mu = day['rolling_ret'] + day['rolling_volatility']**2/2\n",
    "        alpha = day['alpha']\n",
    "        ln = np.log(np.cosh(mu*t/2))\n",
    "        iv = np.sqrt(8/t*(alpha*t-ln))\n",
    "        print(iv)\n",
    "\n",
    "        IV.append(iv)\n",
    "        \n",
    "    return IV"
   ]
  },
  {
   "cell_type": "code",
   "execution_count": null,
   "id": "881efd75",
   "metadata": {},
   "outputs": [],
   "source": [
    "IV = calculate_IV(target_price)"
   ]
  },
  {
   "cell_type": "code",
   "execution_count": null,
   "id": "32ffcd24",
   "metadata": {},
   "outputs": [],
   "source": [
    "target_price[\"IV\"] = IV"
   ]
  },
  {
   "cell_type": "code",
   "execution_count": null,
   "id": "aa41193c",
   "metadata": {},
   "outputs": [],
   "source": [
    "plt.plot(IV, label='IV')\n",
    "plt.plot(target_price['rolling_volatility'])"
   ]
  },
  {
   "cell_type": "code",
   "execution_count": null,
   "id": "45e3bf03",
   "metadata": {},
   "outputs": [],
   "source": [
    "result = np.greater(IV, target_price['rolling_volatility'].values)\n",
    "np.count_nonzero(result)"
   ]
  },
  {
   "cell_type": "code",
   "execution_count": null,
   "id": "e634a242",
   "metadata": {
    "scrolled": true
   },
   "outputs": [],
   "source": [
    "target_price['signal'] = result"
   ]
  },
  {
   "cell_type": "code",
   "execution_count": null,
   "id": "99fbcb8e",
   "metadata": {},
   "outputs": [],
   "source": [
    "target_price['shifted_signal'] = target_price['signal'].shift(-1)"
   ]
  },
  {
   "cell_type": "code",
   "execution_count": null,
   "id": "97ae403e",
   "metadata": {},
   "outputs": [],
   "source": [
    "target_price"
   ]
  },
  {
   "cell_type": "code",
   "execution_count": null,
   "id": "b0a5c382",
   "metadata": {},
   "outputs": [],
   "source": [
    "#BTC_ETH_grouped = BTC_ETH_grouped.join(target_price['signal'])\n",
    "BTC_ETH_grouped = BTC_ETH_grouped.join(target_price['shifted_signal'])"
   ]
  },
  {
   "cell_type": "code",
   "execution_count": null,
   "id": "93511a9f",
   "metadata": {},
   "outputs": [],
   "source": [
    "BTC_ETH_grouped = BTC_ETH_grouped.drop('shifted_signal', axis=1)\n",
    "BTC_ETH_grouped = BTC_ETH_grouped.join(target_price['shifted_signal'])\n",
    "BTC_ETH_grouped"
   ]
  },
  {
   "cell_type": "code",
   "execution_count": null,
   "id": "50afe659",
   "metadata": {},
   "outputs": [],
   "source": [
    "def vol_strategy_providing(df, daily_hedge):\n",
    "    my_usd = 200\n",
    "    P_0 = df.loc[('2020-05-18', 'Swap')]['ETH']/df.loc[('2020-05-18', 'Swap')]['BTC']\n",
    "    my_fees, PnL = np.array([0]), np.array([0])\n",
    "    for group, group_df in df.iterrows():\n",
    "        \n",
    "        if 'Swap' == group[1]:\n",
    "            \n",
    "            P_1 = group_df['ETH']/ group_df['BTC']\n",
    "            fees = (group_df['amount0In']*group_df['BTC'] + group_df['amount1In']*group_df['ETH'])*0.003\n",
    "            \n",
    "            pool_0_usd = (group_df['in0_sum']- group_df['out0_sum'])*group_df['BTC']\n",
    "            pool_1_usd = (group_df['in1_sum']- group_df['out1_sum'])*group_df['ETH']\n",
    "            \n",
    "            total_pool_usd = pool_0_usd+pool_1_usd\n",
    "            \n",
    "            alpha = fees/total_pool_usd\n",
    "            #print('alpha:', round(100*alpha,2))\n",
    "            il = iloss(P_1/P_0)\n",
    "            \n",
    "           \n",
    "            if group_df['signal']:\n",
    "                my_fees = np.append(my_fees, fees*my_usd/total_pool_usd)\n",
    "                my_usd += fees*my_usd/total_pool_usd \n",
    "                #print('alpha-il',alpha-il)\n",
    "                if daily_hedge:\n",
    "                    PnL = np.append(PnL,alpha+il)\n",
    "                    P_0 = P_1\n",
    "                    \n",
    "                else:\n",
    "                    if group_df['shifted_signal']:\n",
    "                        PnL = np.append(PnL,alpha+0)\n",
    "                        \n",
    "                    else:\n",
    "                        PnL = np.append(PnL,alpha+il)\n",
    "                    \n",
    "            else:\n",
    "                my_fees = np.append(my_fees, 0) \n",
    "                PnL = np.append(PnL,0)\n",
    "                P_0 = P_1\n",
    "\n",
    "    return my_fees , PnL"
   ]
  },
  {
   "cell_type": "code",
   "execution_count": null,
   "id": "6ae9fafa",
   "metadata": {},
   "outputs": [],
   "source": [
    "my_fees , PnL = vol_strategy_providing(BTC_ETH_grouped,daily_hedge=0)"
   ]
  },
  {
   "cell_type": "code",
   "execution_count": null,
   "id": "365fbea6",
   "metadata": {},
   "outputs": [],
   "source": [
    "import matplotlib.pyplot as plt\n",
    "import numpy as np\n",
    "\n",
    "# Set the figure size\n",
    "fig, axs = plt.subplots(3, 1, figsize=(20, 30), sharex=True)\n",
    "\n",
    "times = merged_df.date[30:]\n",
    "\n",
    "# Calculate the cumulative PnL\n",
    "cumulative_pnl = (np.cumprod(PnL+1)-1)*100\n",
    "\n",
    "# Create boolean masks for equal and not equal adjacent values in PnL\n",
    "mask_equal = result\n",
    "mask_not_equal = np.logical_not(mask_equal)\n",
    "\n",
    "# Plot the cumulative PnL with different colors for equal and not equal adjacent values\n",
    "axs[0].plot(times[1:], cumulative_pnl[1:], color='blue')\n",
    "axs[0].scatter(times[:-1][mask_equal], cumulative_pnl[:-1][mask_equal], color='red', s=10, label='Not Providing Liquidity')\n",
    "axs[0].scatter(times[:-1][mask_not_equal], cumulative_pnl[:-1][mask_not_equal], color='blue', s=1, label='Providing')\n",
    "\n",
    "axs[0].set_title(label='Strategy liquidity providing')\n",
    "axs[0].set_ylabel('PnL in %')\n",
    "axs[0].grid(True)\n",
    "axs[0].legend()  # Add legend\n",
    "\n",
    "# Plot the BTC/ETH normalized values\n",
    "axs[1].plot(times[1:], IV, color='green', label='IV')\n",
    "axs[1].plot(times[1:], target_price.rolling_volatility.values, color='red', label='HV')\n",
    "axs[1].set_ylabel('Volatility')\n",
    "axs[1].set_xlabel('Date')\n",
    "axs[1].grid(True)\n",
    "# Plot the BTC/ETH normalized values\n",
    "axs[2].plot(times, (merged_df['BTC'][30:] / merged_df['BTC'][30]) / (merged_df['ETH'][30:] / merged_df['ETH'][30]), color='gray')\n",
    "\n",
    "axs[2].set_ylabel('ETH/BTC NORMALIZED')\n",
    "axs[2].grid(True)\n",
    "\n",
    "fig.autofmt_xdate(which='both')\n",
    "\n",
    "# Save the figure with higher DPI\n",
    "fig.savefig(\"PnL_strategy_liq.png\", dpi=300)\n",
    "\n",
    "# Show the figure\n",
    "plt.show()\n"
   ]
  },
  {
   "cell_type": "code",
   "execution_count": null,
   "id": "98c7344e",
   "metadata": {},
   "outputs": [],
   "source": [
    "my_fees_h , PnL_h = vol_strategy_providing(BTC_ETH_grouped,daily_hedge=1)"
   ]
  },
  {
   "cell_type": "code",
   "execution_count": null,
   "id": "19790e82",
   "metadata": {},
   "outputs": [],
   "source": [
    "import matplotlib.pyplot as plt\n",
    "import numpy as np\n",
    "\n",
    "# Set the figure size\n",
    "fig, axs = plt.subplots(3, 1, figsize=(20, 30), sharex=True)\n",
    "\n",
    "times = merged_df.date[30:]\n",
    "\n",
    "# Calculate the cumulative PnL\n",
    "cumulative_pnl = (np.cumprod(PnL_h+1)-1)*100\n",
    "\n",
    "# Create boolean masks for equal and not equal adjacent values in PnL\n",
    "mask_equal = result\n",
    "mask_not_equal = np.logical_not(mask_equal)\n",
    "\n",
    "# Plot the cumulative PnL with different colors for equal and not equal adjacent values\n",
    "axs[0].plot(times[1:], cumulative_pnl[1:], color='blue')\n",
    "axs[0].scatter(times[:-1][mask_equal], cumulative_pnl[:-1][mask_equal], color='red', s=10, label='Not Providing')\n",
    "axs[0].scatter(times[:-1][mask_not_equal], cumulative_pnl[:-1][mask_not_equal], color='blue', s=1, label='Providing')\n",
    "\n",
    "axs[0].set_title(label='Strategy liquidity providing')\n",
    "axs[0].set_ylabel('PnL in % with hedge')\n",
    "axs[0].grid(True)\n",
    "axs[0].legend()  # Add legend\n",
    "\n",
    "# Plot the BTC/ETH normalized values\n",
    "axs[1].plot(times[1:], IV, color='green', label='IV')\n",
    "axs[1].plot(times[1:], target_price.rolling_volatility.values, color='red', label='HV')\n",
    "axs[1].set_ylabel('Volatility')\n",
    "axs[1].set_xlabel('Date')\n",
    "axs[1].grid(True)\n",
    "# Plot the BTC/ETH normalized values\n",
    "axs[2].plot(times, (merged_df['BTC'][30:] / merged_df['BTC'][30]) / (merged_df['ETH'][30:] / merged_df['ETH'][30]), color='gray')\n",
    "\n",
    "axs[2].set_ylabel('ETH/BTC NORMALIZED')\n",
    "axs[2].grid(True)\n",
    "\n",
    "fig.autofmt_xdate(which='both')\n",
    "\n",
    "# Save the figure with higher DPI\n",
    "fig.savefig(\"PnL_strategy_liq_daily_hedge.png\", dpi=300)\n",
    "\n",
    "# Show the figure\n",
    "plt.show()\n"
   ]
  },
  {
   "cell_type": "code",
   "execution_count": null,
   "id": "35ee8b6b",
   "metadata": {},
   "outputs": [],
   "source": []
  },
  {
   "cell_type": "code",
   "execution_count": null,
   "id": "1a2ae4ea",
   "metadata": {},
   "outputs": [],
   "source": []
  }
 ],
 "metadata": {
  "kernelspec": {
   "display_name": "Python 3 (ipykernel)",
   "language": "python",
   "name": "python3"
  },
  "language_info": {
   "codemirror_mode": {
    "name": "ipython",
    "version": 3
   },
   "file_extension": ".py",
   "mimetype": "text/x-python",
   "name": "python",
   "nbconvert_exporter": "python",
   "pygments_lexer": "ipython3",
   "version": "3.10.9"
  }
 },
 "nbformat": 4,
 "nbformat_minor": 5
}
